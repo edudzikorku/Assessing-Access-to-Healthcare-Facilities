{
  "nbformat": 4,
  "nbformat_minor": 0,
  "metadata": {
    "colab": {
      "provenance": []
    },
    "kernelspec": {
      "name": "python3",
      "display_name": "Python 3"
    },
    "language_info": {
      "name": "python"
    }
  },
  "cells": [
    {
      "cell_type": "code",
      "execution_count": null,
      "metadata": {
        "id": "Tp0WKs8w7-QV"
      },
      "outputs": [],
      "source": [
        "# install necessary libraries\n",
        "!pip install --quiet fiona shapely pyproj rtree\n",
        "!pip install --quiet geopandas\n",
        "!pip install --quiet ipython-autotime\n",
        "!pip install --quiet matplotlib\n",
        "!pip install --quiet contextily"
      ]
    },
    {
      "cell_type": "markdown",
      "source": [
        "## Assessing Access to Healthcare Facilities:\n",
        "<h5>The Case of Ho Municipal</h5>"
      ],
      "metadata": {
        "id": "8JqnRelzQWf7"
      }
    },
    {
      "cell_type": "code",
      "source": [
        "# import the relevant libraries\n",
        "import folium\n",
        "import requests\n",
        "from folium import *\n",
        "from geopy.geocoders import Nominatim\n",
        "from folium.plugins import *\n",
        "import branca\n",
        "import pandas as pd\n",
        "import contextily as cx\n",
        "import geopandas as gpd\n",
        "import matplotlib\n",
        "import matplotlib.pyplot as plt\n",
        "import matplotlib.font_manager as fm\n",
        "from shapely.geometry import Point, LineString\n",
        "%matplotlib inline\n",
        "%load_ext autotime"
      ],
      "metadata": {
        "colab": {
          "base_uri": "https://localhost:8080/"
        },
        "id": "yEvrfTQt9Xye",
        "outputId": "cc485dfd-1e8c-41e0-8e5a-a4b921197872"
      },
      "execution_count": null,
      "outputs": [
        {
          "output_type": "stream",
          "name": "stdout",
          "text": [
            "time: 183 µs (started: 2023-04-01 03:55:51 +00:00)\n"
          ]
        }
      ]
    },
    {
      "cell_type": "markdown",
      "source": [
        "### Font Properties"
      ],
      "metadata": {
        "id": "nlIrvny87o8X"
      }
    },
    {
      "cell_type": "markdown",
      "source": [
        "#### Font Families"
      ],
      "metadata": {
        "id": "FXLVLHMZ8TCC"
      }
    },
    {
      "cell_type": "code",
      "source": [
        "# To be able to customize the visual appearance of text in the code, external fonts can be downloaded and used, \n",
        "# instead of the default fonts.\n",
        "# This code snippet is using the command line tool 'unzip' to extract the contents of multiple zip files \n",
        "# that are located in the \"/content/drive/MyDrive/fonts/\" directory. \n",
        "\n",
        "# Extract fonts from drive\n",
        "!unzip \"/content/drive/MyDrive/fonts/Metropolis.zip\"\n",
        "\n",
        "!unzip \"/content/drive/MyDrive/fonts/candara.zip\"\n"
      ],
      "metadata": {
        "id": "O-tDplqm7wvb"
      },
      "execution_count": null,
      "outputs": []
    },
    {
      "cell_type": "code",
      "source": [
        "# move fonts to fonts' directory\n",
        "!mv Candara*.ttf /usr/share/fonts/truetype/\n",
        "!mv Metropolis-*.otf /usr/share/fonts/truetype/\n",
        "!fc-cache -f -v"
      ],
      "metadata": {
        "id": "zVvMWVrw8jQ6"
      },
      "execution_count": null,
      "outputs": []
    },
    {
      "cell_type": "markdown",
      "source": [
        "### Data Retrieval"
      ],
      "metadata": {
        "id": "7pTVgScCMmbV"
      }
    },
    {
      "cell_type": "code",
      "source": [
        "# Define the file path for the shapefile containing community data\n",
        "origin = \"/content/drive/MyDrive/closest_facility/data/hm/origin/Ho_Mun_Com.shp\"\n",
        "\n",
        "# Define the file path for the shapefile containing health facility data\n",
        "destination = \"/content/drive/MyDrive/closest_facility/data/hm/destination/Ho_Mun_Health.shp\"\n",
        "\n",
        "# Load the community data from the shapefile into a GeoDataFrame using the read_file() function from the geopandas library\n",
        "community = gpd.read_file(origin)\n",
        "\n",
        "# Load the health facility data from the shapefile into a GeoDataFrame using the read_file() function from the geopandas library\n",
        "health_facility = gpd.read_file(destination)\n"
      ],
      "metadata": {
        "colab": {
          "base_uri": "https://localhost:8080/"
        },
        "id": "DNFNtIscCn8E",
        "outputId": "74d9e9fe-07f5-45d0-885d-e93d22f617c9"
      },
      "execution_count": null,
      "outputs": [
        {
          "output_type": "stream",
          "name": "stdout",
          "text": [
            "time: 385 µs (started: 2023-04-01 03:56:20 +00:00)\n"
          ]
        }
      ]
    },
    {
      "cell_type": "markdown",
      "source": [
        "### Data Preprocessing"
      ],
      "metadata": {
        "id": "5WEl2wiwMepK"
      }
    },
    {
      "cell_type": "code",
      "source": [
        "# Convert all column names to lowercase using the map() method and the str.lower() function,\n",
        "# and then assign the resulting array of column names back to the column attribute of the community GeoDataFrame.\n",
        "community.columns = community.columns.map(str.lower)"
      ],
      "metadata": {
        "colab": {
          "base_uri": "https://localhost:8080/"
        },
        "id": "qtXvRtO-FQEW",
        "outputId": "10a3defe-5eb3-4a84-c87b-9377e49d9aa6"
      },
      "execution_count": null,
      "outputs": [
        {
          "output_type": "stream",
          "name": "stdout",
          "text": [
            "time: 1.23 ms (started: 2023-04-01 03:56:43 +00:00)\n"
          ]
        }
      ]
    },
    {
      "cell_type": "markdown",
      "source": [
        "### Visual data exploration"
      ],
      "metadata": {
        "id": "MX6odoJZt9qU"
      }
    },
    {
      "cell_type": "code",
      "source": [
        "# Create a figure object and a set of subplots using the subplots() function from the matplotlib library\n",
        "fig, ax = plt.subplots(1, 1)\n",
        "\n",
        "# Set the size of the figure using the set_size_inches() method\n",
        "fig.set_size_inches(10, 10)\n",
        "\n",
        "# Plot the community GeoDataFrame on the axes using the plot() method from the geopandas library\n",
        "# with black markers ('o') as the point style\n",
        "community.plot(ax=ax, color='black', marker='o')\n",
        "\n",
        "# Add a basemap to the plot using the add_basemap() function from the contextily library (imported as cx)\n",
        "# with the CRS (coordinate reference system) of the community GeoDataFrame and the OpenStreetMap.Mapnik source\n",
        "cx.add_basemap(ax, crs=community.crs, source=cx.providers.OpenStreetMap.Mapnik)\n",
        "\n",
        "# Hide the x-axis and y-axis labels using the xaxis.set_visible() and yaxis.set_visible() methods on the current axes object (gca)\n",
        "plt.gca().xaxis.set_visible(False)\n",
        "plt.gca().yaxis.set_visible(False)\n",
        "\n",
        "# Show the plot\n",
        "plt.show()"
      ],
      "metadata": {
        "id": "BGnwhEw2TPpX"
      },
      "execution_count": null,
      "outputs": []
    },
    {
      "cell_type": "markdown",
      "source": [],
      "metadata": {
        "id": "n9wwHevhB9j5"
      }
    },
    {
      "cell_type": "code",
      "source": [
        "# Define a string variable `api_key` that contains the API key for Open Route Service\n",
        "api_key = \"API_KEY_HERE\""
      ],
      "metadata": {
        "colab": {
          "base_uri": "https://localhost:8080/"
        },
        "id": "8jaDeV6W7YaP",
        "outputId": "6cd741e7-5352-4a0d-c7b1-f7c3e78296bc"
      },
      "execution_count": null,
      "outputs": [
        {
          "output_type": "stream",
          "name": "stdout",
          "text": [
            "time: 330 µs (started: 2023-04-01 03:56:53 +00:00)\n"
          ]
        }
      ]
    },
    {
      "cell_type": "code",
      "source": [
        "# Assign the community GeoDataFrame to the `origin_gdf` variable and the name of the community column to `origin_name_col`\n",
        "origin_gdf = community\n",
        "origin_name_col = 'community'\n",
        "\n",
        "# Assign the health facility GeoDataFrame to the `destination_gdf` variable and the name of the facility name column to `destination_name_col`\n",
        "destination_gdf = health_facility\n",
        "destination_name_col = 'FacilityNa'\n",
        "\n",
        "# These variables are used later in the code to compute the distance matrix between each origin and destination."
      ],
      "metadata": {
        "colab": {
          "base_uri": "https://localhost:8080/"
        },
        "id": "L2GWZTgGQQ3f",
        "outputId": "bbee600b-6f95-49e7-ed69-bd96db9f5aa8"
      },
      "execution_count": null,
      "outputs": [
        {
          "output_type": "stream",
          "name": "stdout",
          "text": [
            "time: 359 µs (started: 2023-04-01 03:56:57 +00:00)\n"
          ]
        }
      ]
    },
    {
      "cell_type": "code",
      "source": [
        "# Create a list of origin points as tuples of (x, y) coordinates using the `geometry` attribute of `origin_gdf`\n",
        "# and the `zip()` function to combine the x-coordinates and y-coordinates into a tuple\n",
        "origins = list(zip(origin_gdf.geometry.x, origin_gdf.geometry.y))\n",
        "\n",
        "# Create a list of destination points as tuples of (x, y) coordinates using the `geometry` attribute of `destination_gdf`\n",
        "# and the `zip()` function to combine the x-coordinates and y-coordinates into a tuple\n",
        "destinations = list(zip(destination_gdf.geometry.x, destination_gdf.geometry.y))\n",
        "\n",
        "# Combine the origin and destination points into a single list of locations\n",
        "locations = origins + destinations\n",
        "\n",
        "# Create a list of origin indices that correspond to the index of each point in the `origins` list\n",
        "# This will be used later to match the origin points with their corresponding rows in the distance matrix\n",
        "origins_index = list(range(0, len(origins)))\n",
        "\n",
        "# Create a list of destination indices that correspond to the index of each point in the `destinations` list\n",
        "# This will be used later to match the destination points with their corresponding columns in the distance matrix\n",
        "destinations_index = list(range(len(origins), len(locations)))\n",
        "\n",
        "# These lists are used later in the code to match the origin points with their corresponding rows in the distance matrix, \n",
        "# and the destination points with their corresponding columns."
      ],
      "metadata": {
        "colab": {
          "base_uri": "https://localhost:8080/"
        },
        "id": "tVEFzcJkQtjC",
        "outputId": "b2b2d5e7-5eab-4ffc-aeaa-aa53c78c34c1"
      },
      "execution_count": null,
      "outputs": [
        {
          "output_type": "stream",
          "name": "stdout",
          "text": [
            "time: 2.68 ms (started: 2023-04-01 03:57:01 +00:00)\n"
          ]
        }
      ]
    },
    {
      "cell_type": "code",
      "source": [
        "# Define the request body as a dictionary with the necessary parameters for the Open Route Service API\n",
        "# `locations`: a list of origin and destination points\n",
        "# `destinations`: a list of destination indices that correspond to the index of each point in the `locations` list\n",
        "# `sources`: a list of origin indices that correspond to the index of each point in the `locations` list\n",
        "# `metrics`: a list of metrics to compute, in this case, only 'distance'\n",
        "# `units`: the units to use for the computed distances, in this case, kilometers\n",
        "body = {'locations': locations,\n",
        "       'destinations': destinations_index,\n",
        "       'sources': origins_index,\n",
        "       'metrics': ['distance'],\n",
        "        'units': 'km'}\n",
        "\n",
        "# Define the request headers with the necessary parameters for the Open Route Service API\n",
        "# `Accept`: the format for the response\n",
        "# `Authorization`: the API key for authentication\n",
        "# `Content-Type`: the format for the request body\n",
        "headers = {\n",
        "    'Accept': 'application/json, application/geo+json, application/gpx+xml, img/png; charset=utf-8',\n",
        "    'Authorization': api_key,\n",
        "    'Content-Type': 'application/json; charset=utf-8'\n",
        "}\n",
        "\n",
        "# Send a POST request to the Open Route Service API with the defined request body and headers\n",
        "response = requests.post('https://api.openrouteservice.org/v2/matrix/driving-car', \n",
        "                         json = body, headers = headers)\n"
      ],
      "metadata": {
        "colab": {
          "base_uri": "https://localhost:8080/"
        },
        "id": "apFt8c0pRRfb",
        "outputId": "ff22caf4-741e-43db-ae8a-1aca0f5e98e9"
      },
      "execution_count": null,
      "outputs": [
        {
          "output_type": "stream",
          "name": "stdout",
          "text": [
            "time: 304 ms (started: 2023-04-01 03:57:22 +00:00)\n"
          ]
        }
      ]
    },
    {
      "cell_type": "code",
      "source": [
        "# Extract the distances from the response returned by the Open Route Service API\n",
        "distances = response.json()['distances']"
      ],
      "metadata": {
        "id": "kmxoFegXRWlh",
        "colab": {
          "base_uri": "https://localhost:8080/"
        },
        "outputId": "77a72f19-d513-4518-e481-adfa953d7227"
      },
      "execution_count": null,
      "outputs": [
        {
          "output_type": "stream",
          "name": "stdout",
          "text": [
            "time: 1.24 ms (started: 2023-04-01 03:57:32 +00:00)\n"
          ]
        }
      ]
    },
    {
      "cell_type": "markdown",
      "source": [
        "### Post-processing"
      ],
      "metadata": {
        "id": "tYs4mFdxxx38"
      }
    },
    {
      "cell_type": "code",
      "source": [
        "# Initialize an empty list to store the distance matrix\n",
        "distance_matrix = []\n",
        "\n",
        "# Iterate over each origin in the origin GeoDataFrame\n",
        "for origin_index, item in origin_gdf.iterrows():\n",
        "  \n",
        "  # Get the name and coordinates of the origin point\n",
        "  origin_name = item[origin_name_col]\n",
        "  origin_x = item.geometry.x\n",
        "  origin_y = item.geometry.y\n",
        "  \n",
        "  # Get the distances from the origin point to all destination points\n",
        "  origin_distances = distances[origin_index]\n",
        "  \n",
        "  # Find the minimum distance and the index of the corresponding destination point\n",
        "  min_dist = min(origin_distances)\n",
        "  min_index = origin_distances.index(min_dist)\n",
        "  dest_index = destinations_index[min_index]\n",
        "  \n",
        "  # Get the name and coordinates of the corresponding destination point\n",
        "  dest_x, dest_y = locations[dest_index]\n",
        "  \n",
        "  # Filter the destination GeoDataFrame to get the row corresponding to the destination point\n",
        "  filtered =  destination_gdf[(destination_gdf.geometry.x == dest_x) & (destination_gdf.geometry.y == dest_y)]\n",
        "  dest_row = filtered.iloc[0]\n",
        "  \n",
        "  # Get the name of the destination point\n",
        "  dest_name = dest_row[destination_name_col]\n",
        "  \n",
        "  # Append the origin name, origin coordinates, destination name, destination coordinates, and distance to the distance matrix\n",
        "  distance_matrix.append([origin_name, origin_y, origin_x, dest_name, dest_y, dest_x, min_dist])\n"
      ],
      "metadata": {
        "colab": {
          "base_uri": "https://localhost:8080/"
        },
        "id": "xnXl5mY3kcbz",
        "outputId": "22e24236-7667-45de-876c-7103f469cc66"
      },
      "execution_count": null,
      "outputs": [
        {
          "output_type": "stream",
          "name": "stdout",
          "text": [
            "time: 176 ms (started: 2023-04-01 03:57:40 +00:00)\n"
          ]
        }
      ]
    },
    {
      "cell_type": "code",
      "source": [
        "# Create a pandas DataFrame called matrix_df from the list distance_matrix with specified column names. \n",
        "# The columns are as follows:\n",
        "# - origin_name: name of the community\n",
        "# - origin_y: y-coordinate of the community\n",
        "# - origin_x: x-coordinate of the community\n",
        "# - destination_name: name of the nearest health facility\n",
        "# - dest_y: y-coordinate of the nearest health facility\n",
        "# - dest_x: x-coordinate of the nearest health facility\n",
        "# - min_dist: distance between the community and its nearest health facility\n",
        "matrix_df = pd.DataFrame(distance_matrix,\n",
        "                          columns = ['origin_name', 'origin_y', 'origin_x', 'destination_name', 'dest_y', 'dest_x', 'min_dist']\n",
        "                          )"
      ],
      "metadata": {
        "colab": {
          "base_uri": "https://localhost:8080/"
        },
        "id": "9q7lRwJ4kech",
        "outputId": "e863e371-3ff0-4947-d842-f9007345bea0"
      },
      "execution_count": null,
      "outputs": [
        {
          "output_type": "stream",
          "name": "stdout",
          "text": [
            "time: 1.38 ms (started: 2023-04-01 03:57:53 +00:00)\n"
          ]
        }
      ]
    },
    {
      "cell_type": "code",
      "source": [
        "# Define a function called lineString that takes a row from the matrix_df DataFrame and creates a LineString object from the \n",
        "# origin and destination points. The function returns the LineString object.\n",
        "def lineString(row):\n",
        "    origin_point = Point(row['origin_x'], row['origin_y']) # create a Point object from the origin_x and origin_y values\n",
        "    dest_point = Point(row['dest_x'], row['dest_y']) # create a Point object from the dest_x and dest_y values\n",
        "    return LineString([origin_point, dest_point]) # create a LineString object from the origin and destination points\n",
        "\n",
        "# Apply the lineString function to each row in the matrix_df DataFrame and create a GeoDataFrame called matrix_gdf.\n",
        "# The geometry of each row is the LineString object created by the lineString function.\n",
        "# The crs is set to EPSG:4326, which is the WGS 84 coordinate reference system.\n",
        "geom = matrix_df.apply(lineString, axis = 1)\n",
        "matrix_gdf = gpd.GeoDataFrame(\n",
        "                                matrix_df, \n",
        "                                geometry = geom,\n",
        "                                crs = 'EPSG:4326'\n",
        "                             )"
      ],
      "metadata": {
        "colab": {
          "base_uri": "https://localhost:8080/"
        },
        "id": "7VMMQabNklS_",
        "outputId": "e76d37eb-d0ff-457b-8a3e-902afbbb0884"
      },
      "execution_count": null,
      "outputs": [
        {
          "output_type": "stream",
          "name": "stdout",
          "text": [
            "time: 26.2 ms (started: 2023-04-01 03:58:20 +00:00)\n"
          ]
        }
      ]
    },
    {
      "cell_type": "markdown",
      "source": [
        "### Displaying Each Community and its Associated Nearest Health Facility"
      ],
      "metadata": {
        "id": "FfC8V-NOOECn"
      }
    },
    {
      "cell_type": "code",
      "source": [
        "# Set font properties\n",
        "\n",
        "# metropolis-thin\n",
        "metro_thin = \"/usr/share/fonts/truetype/Metropolis-Thin.otf\"\n",
        "metrofontprop = fm.FontProperties(fname = metro_thin, size = 15.5)\n",
        "\n",
        "\n",
        "# autho - metropolis\n",
        "metro_thin = \"/usr/share/fonts/truetype/Metropolis-Thin.otf\"\n",
        "metrofontprop_i = fm.FontProperties(fname = metro_thin, size = 12, weight = 'bold')\n",
        "\n",
        "# candara\n",
        "candara = \"/usr/share/fonts/truetype/Candara.ttf\"\n",
        "candara_prop = fm.FontProperties(fname = candara, size = 15)"
      ],
      "metadata": {
        "colab": {
          "base_uri": "https://localhost:8080/"
        },
        "id": "mBk40wO7Ou5p",
        "outputId": "e98a4ff2-92d1-49b5-e894-27bdfb686daf"
      },
      "execution_count": null,
      "outputs": [
        {
          "output_type": "stream",
          "name": "stdout",
          "text": [
            "time: 549 µs (started: 2023-04-01 03:58:30 +00:00)\n"
          ]
        }
      ]
    },
    {
      "cell_type": "code",
      "source": [
        "# Create a figure and axis object\n",
        "fig, ax = plt.subplots(1, 1, figsize = (12, 8))\n",
        "\n",
        "# Plot the origin, destination, and distance matrix GeoDataFrames\n",
        "origin_gdf.plot(ax = ax, color = 'blue', alpha = 1, marker = 'o')\n",
        "matrix_gdf.plot(ax = ax, color = 'black', linestyle = '--', linewidth = 0.75)\n",
        "destination_gdf.plot(ax = ax, color = 'red', alpha = 1, marker = '+')\n",
        "\n",
        "# Add a basemap to the plot\n",
        "cx.add_basemap(\n",
        "    ax = ax,\n",
        "    crs = health_facility.crs,\n",
        "    source = cx.providers.OpenStreetMap.Mapnik\n",
        "              )\n",
        "\n",
        "# Create legend elements\n",
        "legend_elements = [\n",
        "                    plt.plot([], [], color = 'red', alpha = 1, marker = '+', label = 'Health Center', ls = '')[0],\n",
        "                    plt.plot([], [], color = 'blue', alpha = 1, marker = 'o', label = 'Community', ls = '')[0],\n",
        "                    plt.plot([], [], color = 'black', alpha = 1, marker = '_', label = 'Distance Matrix', ls = '')[0]\n",
        "                  ]\n",
        "\n",
        "# Add legend to the plot\n",
        "ax.legend(\n",
        "            handles = legend_elements,\n",
        "            loc = 'lower right', prop = metrofontprop_i\n",
        "         )\n",
        "\n",
        "# Retrieve the Text objects representing the legend labels\n",
        "legend_labels = ax.legend_.get_texts()\n",
        "\n",
        "# Set the color of the 'Community' legend label to red\n",
        "legend_labels[0].set_color('red')\n",
        "\n",
        "# Set the color of the 'Health Center' legend label to blue\n",
        "legend_labels[1].set_color('blue')\n",
        "\n",
        "# Set the color of the 'Distance Matrix' legend label to black\n",
        "legend_labels[2].set_color('black')\n",
        "\n",
        "# Remove x and y axis ticks\n",
        "ax.get_xaxis().set_visible(False)\n",
        "ax.get_yaxis().set_visible(False)\n",
        "\n",
        "# Add a title to the plot\n",
        "title = ax.set_title(\"\"\"\n",
        "            Nearest Health Facilities  \n",
        "         Among Communities in Ho Municipal\n",
        "      \"\"\", fontproperties = metrofontprop, color = \"black\", weight = 'bold'\n",
        "      )\n",
        "\n",
        "# Save the plot to an output folder\n",
        "output_folder = \"/content/drive/MyDrive/closest_facility/output\"\n",
        "output = \"/content/sample_data/output\"\n",
        "plt.savefig(output_folder+'/closestFacs_land.jpg',  dpi = 300, bbox_inches = 'tight', orientation = 'landscape')\n",
        "\n",
        "# Display the plot\n",
        "plt.show()\n"
      ],
      "metadata": {
        "id": "WW0O6Z6wqpQF"
      },
      "execution_count": null,
      "outputs": []
    },
    {
      "cell_type": "code",
      "source": [
        "# Compute the descriptive statistics of the 'min_dist' column in the matrix_gdf GeoDataFrame\n",
        "matrix_gdf.min_dist.describe()"
      ],
      "metadata": {
        "colab": {
          "base_uri": "https://localhost:8080/"
        },
        "id": "Jk2aidUAj1ia",
        "outputId": "7d679381-c80d-4e49-e040-2ffc7e285648"
      },
      "execution_count": null,
      "outputs": [
        {
          "output_type": "execute_result",
          "data": {
            "text/plain": [
              "count    96.000000\n",
              "mean      2.885208\n",
              "std       2.431121\n",
              "min       0.020000\n",
              "25%       0.950000\n",
              "50%       2.080000\n",
              "75%       4.137500\n",
              "max      11.220000\n",
              "Name: min_dist, dtype: float64"
            ]
          },
          "metadata": {},
          "execution_count": 23
        },
        {
          "output_type": "stream",
          "name": "stdout",
          "text": [
            "time: 20.9 ms (started: 2023-04-01 04:01:08 +00:00)\n"
          ]
        }
      ]
    },
    {
      "cell_type": "code",
      "source": [
        "# Get the row index of the origin with the highest min_dist\n",
        "max_dist_idx = matrix_gdf['min_dist'].idxmax()\n",
        "\n",
        "# Get the name of the origin with the highest min_dist\n",
        "origin_name_with_max_dist = matrix_gdf.loc[max_dist_idx, 'origin_name']\n",
        "origin_y_with_max_dist = matrix_gdf.loc[max_dist_idx, 'origin_y']\n",
        "origin_x_with_max_dist = matrix_gdf.loc[max_dist_idx, 'origin_x']\n",
        "\n",
        "dest_name_with_max_dist = matrix_gdf.loc[max_dist_idx, 'destination_name']\n",
        "dest_y_with_max_dist = matrix_gdf.loc[max_dist_idx, 'dest_y']\n",
        "dest_x_with_max_dist = matrix_gdf.loc[max_dist_idx, 'dest_x']\n",
        "\n",
        "# print the name of the origin, and its coordinates as well as the name of the destination and its coordinates, both with the highest min_dist\n",
        "print(origin_name_with_max_dist, origin_y_with_max_dist, origin_x_with_max_dist)\n",
        "print(dest_name_with_max_dist, dest_y_with_max_dist, dest_x_with_max_dist)"
      ],
      "metadata": {
        "colab": {
          "base_uri": "https://localhost:8080/"
        },
        "id": "TnYBq-nuaEID",
        "outputId": "dfbd64b0-1183-4388-c403-1499282eb946"
      },
      "execution_count": null,
      "outputs": [
        {
          "output_type": "stream",
          "name": "stdout",
          "text": [
            "Sokode Ando 6.572730000000001 0.36731000000000075\n",
            "Akpe Na Mawu Clinic 6.59496 0.45248000000000005\n",
            "time: 1.42 ms (started: 2023-04-01 04:20:43 +00:00)\n"
          ]
        }
      ]
    },
    {
      "cell_type": "markdown",
      "source": [
        "###Interactive web map for displaying communities and health facilities as well as the distance between them"
      ],
      "metadata": {
        "id": "VHXfuuqWNXzh"
      }
    },
    {
      "cell_type": "code",
      "source": [
        "# Define a TileLayer for Google Street Map\n",
        "google_tiles = TileLayer(\n",
        "    name = \"Google Street Map\",\n",
        "    # Use Google Maps API to fetch map tiles for a given x, y and z zoom level\n",
        "    # Replace API_KEY with your google maps API KEY\n",
        "    tiles = \"https://mt1.google.com/vt/lyrs=m&x={x}&y={y}&z={z}&key=<API_KEY>\",\n",
        "    # Add attribution to Google Maps\n",
        "    attr = '<a href=\"https://www.google.com/maps/\">Google Maps</a>'\n",
        ")\n",
        "\n",
        "# Create a Folium map centered on Ho, Ghana\n",
        "mp = folium.Map(\n",
        "    location = [6.6126598, 0.4688932], \n",
        "    width=800, \n",
        "    height=500, \n",
        "    # Use Google Street Map as the basemap\n",
        "    tiles = google_tiles, \n",
        "    # Add a scale bar to the map\n",
        "    control_scale = True, \n",
        "    # Set the initial zoom level\n",
        "    zoom_start = 15\n",
        ")\n",
        "\n",
        "# Create a GeoJson layer for the origin points (i.e., communities)\n",
        "origin_json = GeoJson(\n",
        "    origin_gdf, \n",
        "    # Add a tooltip to the GeoJson layer\n",
        "    tooltip = folium.GeoJsonTooltip(\n",
        "        # Specify which fields to include in the tooltip\n",
        "        fields = [\"community\", \"region\", \"district\"], \n",
        "        # Rename the fields to more user-friendly names\n",
        "        aliases = [\"Community\", 'Region', 'District'],\n",
        "        # Customize the style of the tooltip\n",
        "        style = (\n",
        "            \"background-color: #AD1457; \"\n",
        "            \"color: #FFFFFF; \"\n",
        "            \"font-family: verdana; \"\n",
        "            \"font-size: 12px; \"\n",
        "            \"padding: 10px\"\n",
        "        )\n",
        "    ), \n",
        "    # Hide the GeoJson layer by default\n",
        "    show = False\n",
        ")\n",
        "\n",
        "# Create a GeoJson layer for the destination points (i.e., healthcare facilities)\n",
        "destination_json = GeoJson(\n",
        "    destination_gdf,\n",
        "    # Add a tooltip to the GeoJson layer\n",
        "    tooltip = folium.GeoJsonTooltip(\n",
        "        # Specify which fields to include in the tooltip\n",
        "        fields = [\"Region\", \"District\", \"FacilityNa\", \"Type\", \"Town\", \"Ownership\"],\n",
        "        # Rename the fields to more user-friendly names\n",
        "        aliases = [\"Region\", \"District\", \"FacilityNa\", \"Type\", \"Town\", \"Ownership\"],\n",
        "        # Customize the style of the tooltip\n",
        "        style = (\n",
        "            \"background-color: #AD1457; \"\n",
        "            \"color: #FFFFFF; \"\n",
        "            \"font-family: verdana; \"\n",
        "            \"font-size: 12px; \"\n",
        "            \"padding: 10px\"\n",
        "        )\n",
        "    ), \n",
        "    # Hide the GeoJson layer by default\n",
        "    show = False\n",
        ")\n",
        "\n",
        "# Define a style function for the matrix layer\n",
        "def my_style(feature):\n",
        "    return {\n",
        "        'color': 'black',\n",
        "        'weight': 2,\n",
        "    }\n",
        "\n",
        "# Create a GeoJson layer for the matrix (i.e., the lines connecting each origin to its nearest destination)\n",
        "matrix_json = folium.GeoJson(\n",
        "    matrix_gdf,\n",
        "    name = \"Distance\",\n",
        "    # Add a tooltip to the GeoJson layer\n",
        "    tooltip = folium.GeoJsonTooltip(\n",
        "        # Specify which fields to include in the tooltip\n",
        "        fields = [\"origin_name\", \"destination_name\", \"min_dist\"],\n",
        "        # Rename the fields to more user-friendly names\n",
        "        aliases = [\"Origin Name:\", \"Destination Name:\", \"Minimum Distance (km):\"],\n",
        "        # Customize the style of the tooltip\n",
        "        style = \"background-color: #F0EFEF; color: #000000; font-family: Arial; font-size: 12px; padding: 10px;\"\n",
        "    ),\n",
        "    # Apply the style function to the matrix layer\n",
        "    style_function = my_style\n",
        ").add_to(mp)\n",
        "\n",
        "# Create a FeatureGroup for the origin points (i.e., communities)\n",
        "comm_fg = folium.FeatureGroup('Community')\n",
        "\n",
        "# Create a FeatureGroup for the destination points (i.e., healthcare facilities)\n",
        "health_fg = folium.FeatureGroup('Health Facility')\n",
        "\n",
        "\n",
        "# Iterate through each feature in the origin_json data\n",
        "for feature in origin_json.data['features']:\n",
        "    \n",
        "    # Check if the feature is a point\n",
        "    if feature['geometry']['type'] == 'Point':\n",
        "        \n",
        "        # Create a string variable containing HTML code with information about the community\n",
        "        elements = \"\"\"\n",
        "                <body style='background-color:#0d2b3e'>\n",
        "                  <div  style='text-align:center; padding: 2px 2px'>\n",
        "                    <h5>\n",
        "                      <p style='color:white;  font-family: Tahoma; font-size: 12px'>Community: {}</p>\n",
        "                      <p style='color:white;  font-family: Candara; font-size: 12px'>District: {}</p>  \n",
        "                      <p style='color:white;  font-family: Candara; font-size: 12px'>Region: {}</p> \n",
        "                    </h5>\n",
        "                  </div>\n",
        "                </body>\"\"\".format(\n",
        "            feature['properties']['community'], # Retrieve the community name from the feature's properties\n",
        "            feature['properties']['district'], # Retrieve the district name from the feature's properties\n",
        "            feature['properties']['region']) # Retrieve the region name from the feature's properties\n",
        "\n",
        "        # Use the HTML formatted string to set the contents of the popup object for the feature\n",
        "        iframe = IFrame(elements)\n",
        "        \n",
        "\n",
        "        # Create a popup object using the iframe object created earlier\n",
        "        # Set the maximum and minimum widths of the popup window\n",
        "        popup = Popup(iframe, max_width = 5, min_width = 200) \n",
        "        Marker(location=list(reversed(feature['geometry']['coordinates'])), \n",
        "               icon=Icon(color=\"blue\", prefix='fa', icon=\"fa-home\", icon_color=\"white\"),\n",
        "               popup=popup).add_to(comm_fg)\n",
        "\n",
        "\n",
        "# Iterate through each feature in the destination_json data\n",
        "for feature in destination_json.data['features']:\n",
        "  # Check if the feature is a point\n",
        "  if feature['geometry']['type'] == 'Point':\n",
        "    # Create a string variable containing HTML code with information about the facility\n",
        "    elements = \"\"\"\n",
        "                  <body style='background-color:#0d2b3e'>\n",
        "                    <div style='text-align:center; padding: 3px 3px'>\n",
        "                      <h5>\n",
        "                        <p style='color:white;  font-family: Tahoma; font-size: 12px'>Facility Name: {}</p>\n",
        "                        <p style='color:white;  font-family: Candara; font-size: 12px'>Type: {}</p> \n",
        "                        <p style='color:white;  font-family: Candara; font-size: 12px'>Locality: {}</p> \n",
        "                        <p style='color:white;  font-family: Candara; font-size: 12px'>Ownership: {}</p> \n",
        "                      </h5>\n",
        "                    </div>\n",
        "                  </body>\n",
        "                \"\"\".format(\n",
        "        feature['properties']['FacilityNa'], # Retrieve the facility name from the feature's properties\n",
        "        feature['properties']['Type'], # Retrieve the facility type from the feature's properties\n",
        "        feature['properties']['Town'], # Retrieve the locality from the feature's properties\n",
        "        feature['properties']['Ownership'] # Retrieve the ownership from the feature's properties\n",
        "        )\n",
        "\n",
        "\n",
        "\n",
        "    # Use the HTML formatted string to set the contents of the popup object for the feature\n",
        "    iframe = IFrame(elements)\n",
        "    # Create a popup object using the iframe object created earlier\n",
        "    # Set the maximum and minimum widths of the popup window\n",
        "    # Set parse_html parameter to True to enable HTML parsing\n",
        "    popup = Popup(iframe, max_width = 5, min_width = 250, parse_html = True)\n",
        "\n",
        "    # Add a marker for the health facility feature to the health facility feature group\n",
        "    # Set the location of the marker as the coordinates of the health facility feature\n",
        "    # Set the icon of the marker as a red square\n",
        "    # Set the popup of the marker as the popup object created earlier\n",
        "    Marker(location =  list(reversed(feature['geometry']['coordinates'])),\n",
        "                  icon =  Icon(color = \"red\", prefix = 'fa', icon = 'fa-square-h', icon_color = \"white\"),\n",
        "                  popup = popup).add_to(health_fg)\n",
        "\n",
        "# Add the comm_fg feature group to the mp map object\n",
        "comm_fg.add_to(mp)\n",
        "\n",
        "# Add the health_fg feature group to the mp map object\n",
        "health_fg.add_to(mp)\n",
        "\n",
        "# Created tile layers to be added to the map\n",
        "\n",
        "TileLayer('Open Street Map').add_to(mp)\n",
        "TileLayer('Stamen Terrain').add_to(mp)\n",
        "TileLayer('CartoDB Dark_Matter').add_to(mp)   \n",
        "TileLayer(\n",
        "    tiles ='http://mt1.google.com/vt/lyrs=s&x={x}&y={y}&z={z}',\n",
        "    attr ='Google',\n",
        "    name ='Google Imagery'\n",
        ").add_to(mp)\n",
        "\n",
        "# Set control panel for the map\n",
        "LayerControl().add_to(mp)\n",
        "\n",
        "\n",
        "# Set fullscreen option\n",
        "fullscreen = Fullscreen(position=\"top right\")\n",
        "\n",
        "# Add insert map\n",
        "minimap = MiniMap(toggle_display=True, minimized = True)\n",
        "mp.add_child(minimap)\n",
        "mp.add_child(fullscreen)\n",
        "\n",
        "# Save map\n",
        "output = \"/content/sample_data/output\"\n",
        "mp.save(output+\"/closest_fac.html\")\n",
        "\n",
        "# Display map\n",
        "mp"
      ],
      "metadata": {
        "id": "p4huevBJjDSO"
      },
      "execution_count": null,
      "outputs": []
    },
    {
      "cell_type": "markdown",
      "source": [
        "### Actual Routes Between Origins and Destinations"
      ],
      "metadata": {
        "id": "ibJ8Qt_H5Zjx"
      }
    },
    {
      "cell_type": "code",
      "source": [
        "# Define the start and end locations\n",
        "sokode_ando = (6.572730000000001, 0.36731000000000075)\n",
        "akpe_na_mawu_clinic = (6.59496, 0.45248000000000005)\n",
        "\n",
        "\n",
        "# Define the OpenRouteService API key\n",
        "api_key = \"API KEY HERE\"\n",
        "\n",
        "# Define the API request body\n",
        "body = {\n",
        "    'api_key': api_key,\n",
        "    'start': '{},{}'.format(sokode_ando[1], sokode_ando[0]),\n",
        "    'end': '{},{}'.format(akpe_na_mawu_clinic[1], akpe_na_mawu_clinic[0])\n",
        "}\n",
        "\n",
        "# Send the API request\n",
        "res = requests.get(\"https://api.openrouteservice.org/v2/directions/driving-car\", params=body)\n",
        "\n",
        "distance = res.json()\n",
        "\n",
        "summary = distance['features'][0]['properties']['summary']\n",
        "\n",
        "distance = round(summary['distance']/1000, 1)\n",
        "\n",
        "dir = res.json()['features'][0]['geometry']['coordinates']\n",
        "points = [(i[1], i[0]) for i in dir]\n",
        "\n",
        "mp = folium.Map(location = [6.5740764, 0.4133276], width = 600, height = 450, tiles = google_tiles, control_scale = True, zoom_start = 13)\n",
        "\n",
        "# Define custom names for the markers\n",
        "start_name = 'Sokode Ando'\n",
        "end_name = 'Akpe na Mawu Clinic'\n",
        "\n",
        "for point, name in zip([points[0], points[-1]], [start_name, end_name]):\n",
        "  if name == start_name:\n",
        "    icon = 'fa-home'\n",
        "    color = 'blue'\n",
        "  else:\n",
        "    icon = 'fa-clinic-medical'\n",
        "    color = 'red'\n",
        "  folium.Marker(point, icon = Icon(color = color, prefix = 'fa', icon = icon, icon_color = \"white\"),\n",
        "                popup = name).add_to(mp)\n",
        "  folium.PolyLine(points, weight = 5, opacity = 1, color = 'red',\n",
        "                  tooltip = f'Distance between {start_name} and {end_name}: {distance} km', \n",
        "                  fontproperties = metrofontprop\n",
        "                  ).add_to(mp)\n",
        "# Save output\n",
        "mp.save(output+\"/closest_fac_dir.html\")\n",
        "mp"
      ],
      "metadata": {
        "id": "ITpQkTiSZ88u"
      },
      "execution_count": null,
      "outputs": []
    }
  ]
}